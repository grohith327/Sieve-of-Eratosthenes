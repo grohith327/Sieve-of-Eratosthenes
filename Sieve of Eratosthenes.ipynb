{
 "cells": [
  {
   "cell_type": "code",
   "execution_count": 20,
   "metadata": {},
   "outputs": [
    {
     "name": "stdout",
     "output_type": "stream",
     "text": [
      "50\n",
      "[2, 3, 5, 7, 11, 13, 17, 19, 23, 29, 31, 37, 41, 43, 47]\n"
     ]
    }
   ],
   "source": [
    "#Given a number n, print all primes smaller than or equal to n. It is also given that n is a small number\n",
    "\n",
    "n = int(input())\n",
    "num = []\n",
    "for i in range(2,n+1):\n",
    "    num.append(i)\n",
    "k = 0\n",
    "p = num[k]    \n",
    "while(True):\n",
    "    i = 2\n",
    "    while(p*i <= n):\n",
    "        if(p*i in num):\n",
    "            num.remove(p*i)\n",
    "        i += 1\n",
    "    k += 1\n",
    "    if(k == len(num)):\n",
    "        break\n",
    "    p = num[k]\n",
    "print(num)"
   ]
  },
  {
   "cell_type": "code",
   "execution_count": null,
   "metadata": {},
   "outputs": [],
   "source": []
  }
 ],
 "metadata": {
  "kernelspec": {
   "display_name": "Python 3",
   "language": "python",
   "name": "python3"
  },
  "language_info": {
   "codemirror_mode": {
    "name": "ipython",
    "version": 3
   },
   "file_extension": ".py",
   "mimetype": "text/x-python",
   "name": "python",
   "nbconvert_exporter": "python",
   "pygments_lexer": "ipython3",
   "version": "3.6.4"
  }
 },
 "nbformat": 4,
 "nbformat_minor": 2
}
